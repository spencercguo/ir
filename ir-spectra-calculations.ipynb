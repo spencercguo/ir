{
 "cells": [
  {
   "cell_type": "code",
   "execution_count": 2,
   "metadata": {
    "collapsed": false
   },
   "outputs": [
    {
     "ename": "ModuleNotFoundError",
     "evalue": "No module named 'numpy'",
     "output_type": "error",
     "traceback": [
      "\u001b[0;31m---------------------------------------------------------------------------\u001b[0m",
      "\u001b[0;31mModuleNotFoundError\u001b[0m                       Traceback (most recent call last)",
      "\u001b[0;32m<ipython-input-2-ed204cdd9b75>\u001b[0m in \u001b[0;36m<module>\u001b[0;34m\u001b[0m\n\u001b[0;32m----> 1\u001b[0;31m \u001b[0;32mimport\u001b[0m \u001b[0mnumpy\u001b[0m \u001b[0;32mas\u001b[0m \u001b[0mnp\u001b[0m\u001b[0;34m\u001b[0m\u001b[0m\n\u001b[0m\u001b[1;32m      2\u001b[0m \u001b[0;32mimport\u001b[0m \u001b[0mmatplotlib\u001b[0m\u001b[0;34m.\u001b[0m\u001b[0mpyplot\u001b[0m \u001b[0;32mas\u001b[0m \u001b[0mplt\u001b[0m\u001b[0;34m\u001b[0m\u001b[0m\n\u001b[1;32m      3\u001b[0m \u001b[0;32mimport\u001b[0m \u001b[0mtime\u001b[0m\u001b[0;34m\u001b[0m\u001b[0m\n\u001b[1;32m      4\u001b[0m \u001b[0mget_ipython\u001b[0m\u001b[0;34m(\u001b[0m\u001b[0;34m)\u001b[0m\u001b[0;34m.\u001b[0m\u001b[0mrun_line_magic\u001b[0m\u001b[0;34m(\u001b[0m\u001b[0;34m'matplotlib'\u001b[0m\u001b[0;34m,\u001b[0m \u001b[0;34m'inline'\u001b[0m\u001b[0;34m)\u001b[0m\u001b[0;34m\u001b[0m\u001b[0m\n",
      "\u001b[0;31mModuleNotFoundError\u001b[0m: No module named 'numpy'"
     ]
    }
   ],
   "source": [
    "import numpy as np\n",
    "import matplotlib.pyplot as plt\n",
    "import time\n",
    "%matplotlib inline"
   ]
  },
  {
   "cell_type": "code",
   "execution_count": 3,
   "metadata": {
    "collapsed": true
   },
   "outputs": [],
   "source": [
    "dipoles = []\n",
    "\n",
    "with open('dftb-dipole-data/traj_select_frames-dftb_dipole-1.data', mode='r') as f1:\n",
    "    for count, line in enumerate(f1, 1):\n",
    "        if count == 63000:\n",
    "            break\n",
    "        elif count % 3 == 2:\n",
    "            coord = []\n",
    "            entries = line.split()\n",
    "            \n",
    "            coord.append(float(entries[3]))\n",
    "            coord.append(float(entries[4]))\n",
    "            coord.append(float(entries[5]))\n",
    "            \n",
    "            dipoles.append(coord)\n",
    "        "
   ]
  },
  {
   "cell_type": "code",
   "execution_count": 4,
   "metadata": {
    "collapsed": false
   },
   "outputs": [
    {
     "name": "stdout",
     "output_type": "stream",
     "text": [
      "[[13.927002, -6.186388, 9.221733], [0.986886, -0.636295, 7.882713], [-0.458181, -2.80516, 8.227693]]\n"
     ]
    }
   ],
   "source": [
    "with open('dftb-dipole-data/traj_select_frames-dftb_dipole-2.data', mode='r') as f2:\n",
    "    for count, line in enumerate(f2, 1):\n",
    "        if count % 3 == 2:\n",
    "            coord = []\n",
    "            entries = line.split()\n",
    "            \n",
    "            coord.append(float(entries[3]))\n",
    "            coord.append(float(entries[4]))\n",
    "            coord.append(float(entries[5]))\n",
    "            \n",
    "            dipoles.append(coord)"
   ]
  },
  {
   "cell_type": "code",
   "execution_count": 5,
   "metadata": {
    "collapsed": true
   },
   "outputs": [],
   "source": [
    "with open('dftb-dipole-data/traj_select_frames-dftb_dipole-3.data', mode='r') as f3:\n",
    "    for count, line in enumerate(f3, 1):\n",
    "        if count % 3 == 2:\n",
    "            coord = []\n",
    "            entries = line.split()\n",
    "            \n",
    "            coord.append(float(entries[3]))\n",
    "            coord.append(float(entries[4]))\n",
    "            coord.append(float(entries[5]))\n",
    "            \n",
    "            dipoles.append(coord)"
   ]
  },
  {
   "cell_type": "code",
   "execution_count": 6,
   "metadata": {
    "collapsed": false
   },
   "outputs": [
    {
     "name": "stdout",
     "output_type": "stream",
     "text": [
      "100002\n"
     ]
    }
   ],
   "source": [
    "print(len(dipoles))"
   ]
  },
  {
   "cell_type": "code",
   "execution_count": null,
   "metadata": {
    "collapsed": true
   },
   "outputs": [],
   "source": []
  }
 ],
 "metadata": {
  "kernelspec": {
   "display_name": "Python 3",
   "language": "python",
   "name": "python3"
  },
  "language_info": {
   "codemirror_mode": {
    "name": "ipython",
    "version": 3
   },
   "file_extension": ".py",
   "mimetype": "text/x-python",
   "name": "python",
   "nbconvert_exporter": "python",
   "pygments_lexer": "ipython3",
   "version": "3.6.0"
  }
 },
 "nbformat": 4,
 "nbformat_minor": 2
}
